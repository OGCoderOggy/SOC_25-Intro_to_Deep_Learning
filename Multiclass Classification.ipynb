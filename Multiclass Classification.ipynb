{
 "cells": [
  {
   "cell_type": "markdown",
   "id": "5ae4613c",
   "metadata": {},
   "source": [
    "# Multiclass Classification using SoftMax regression"
   ]
  },
  {
   "cell_type": "code",
   "execution_count": 1,
   "id": "c5beb01d",
   "metadata": {},
   "outputs": [],
   "source": [
    "import numpy as np\n",
    "import pandas as pd\n",
    "import matplotlib.pyplot as plt"
   ]
  },
  {
   "cell_type": "code",
   "execution_count": 2,
   "id": "e771cdaa",
   "metadata": {},
   "outputs": [],
   "source": [
    "data = pd.read_csv(\"train.csv\")\n",
    "data = np.array(data)\n",
    "m,n = data.shape\n",
    "np.random.shuffle(data) # shuffle the data before splitting into train and test sets"
   ]
  },
  {
   "cell_type": "code",
   "execution_count": 3,
   "id": "2b7f79a7",
   "metadata": {},
   "outputs": [
    {
     "data": {
      "text/plain": [
       "(42000, 785)"
      ]
     },
     "execution_count": 3,
     "metadata": {},
     "output_type": "execute_result"
    }
   ],
   "source": [
    "m,n"
   ]
  },
  {
   "cell_type": "code",
   "execution_count": null,
   "id": "5c9f1d40",
   "metadata": {},
   "outputs": [],
   "source": [
    "# Spliting the data for training and testing purposes\n",
    "data_dev = data[0:1000].T\n",
    "Y_dev = data_dev[0]\n",
    "X_dev = data_dev[0:n]\n",
    "X_dev = X_dev/255\n",
    "\n",
    "data_train = data[1000:m].T \n",
    "Y_train = data_train[0]\n",
    "X_train = data_train[1:n]\n",
    "X_train = X_train/255"
   ]
  },
  {
   "cell_type": "code",
   "execution_count": null,
   "id": "0ded0fc7",
   "metadata": {},
   "outputs": [],
   "source": [
    "# Now we initialize the parameters of the model\n",
    "# We chose a normal distribution of random parameters between -0.5 to 0.5\n",
    "def init_params():\n",
    "    W1 = np.random.rand(10,784) - 0.5\n",
    "    b1 = np.random.rand(10,1)  - 0.5\n",
    "    W2 = np.random.rand(10,10)  - 0.5\n",
    "    b2 = np.random.rand(10,1)  - 0.5\n",
    "    return W1, b1, W2, b2 \n",
    "\n",
    "#Defining the activation functions\n",
    "def relu(Z):\n",
    "    return np.maximum(Z, 0)\n",
    "\n",
    "def softmax(Z):\n",
    "    A = np.exp(Z)/ sum(np.exp(Z))\n",
    "    return A\n",
    "\n",
    "#Forward Propagation\n",
    "def forward_prop(W1,b1,W2,b2,X):\n",
    "    Z1 = W1.dot(X) + b1\n",
    "    A1 = relu(Z1)\n",
    "    Z2 = W2.dot(A1) + b2\n",
    "    A2 = softmax(Z2)\n",
    "    return Z1,A1,Z2,A2\n",
    "\n",
    "#Defining the derivative of the activation function\n",
    "def relu_deriv(Z):\n",
    "    return Z > 0\n",
    "\n",
    "# Matching the matrix of X and Y\n",
    "def one_hot(Y):\n",
    "    one_hot_Y = np.zeros((Y.size,Y.max()+1))\n",
    "    one_hot_Y[np.arange(Y.size),Y] = 1\n",
    "    one_hot_Y = one_hot_Y.T \n",
    "    return one_hot_Y\n",
    "\n",
    "#Back Propagation\n",
    "def back_prop(Z1,A1,Z2,A2,W1,W2,X,Y):\n",
    "    m = Y.size\n",
    "    one_hot_Y = one_hot(Y)\n",
    "    dZ2 = A2 - one_hot_Y\n",
    "    dW2 = 1 / m * dZ2.dot(A1.T)\n",
    "    db2 = 1 / m * np.sum(dZ2)\n",
    "    dZ1 = W2.T.dot(dZ2) * relu_deriv(Z1)\n",
    "    dW1 = 1 / m * dZ1.dot(X.T)\n",
    "    db1 = 1 / m * np.sum(dZ1)\n",
    "    return dW1, db1, dW2, db2\n",
    "\n",
    "#updating parameters\n",
    "def update_params(W1, b1, W2, b2, dW1, db1, dW2, db2, alpha):\n",
    "    W1 = W1 - alpha * dW1\n",
    "    b1 = b1 - alpha * db1    \n",
    "    W2 = W2 - alpha * dW2  \n",
    "    b2 = b2 - alpha * db2    \n",
    "    return W1, b1, W2, b2\n"
   ]
  },
  {
   "cell_type": "code",
   "execution_count": 6,
   "id": "43214b91",
   "metadata": {},
   "outputs": [],
   "source": [
    "def get_predictions(A2):\n",
    "    return np.argmax(A2, 0)\n",
    "\n",
    "def get_accuracy(predictions, Y):\n",
    "    print(predictions, Y)\n",
    "    return np.sum(predictions == Y) / Y.size\n",
    "\n",
    "def gradient_descent(X,Y,alpha,iterations):\n",
    "    W1,b1,W2,b2=init_params()\n",
    "    for i in range(iterations):\n",
    "        Z1, A1, Z2, A2 = forward_prop(W1, b1, W2, b2, X)\n",
    "        dW1, db1, dW2, db2 = back_prop(Z1, A1, Z2, A2, W1, W2, X, Y)\n",
    "        W1, b1, W2, b2 = update_params(W1, b1, W2, b2, dW1, db1, dW2, db2, alpha)\n",
    "        if i % 10 == 0: #Get the acccuracy every 50 iterations\n",
    "            print(\"Iteration: \", i)\n",
    "            predictions = get_predictions(A2)\n",
    "            print(\"Accuracy: \",get_accuracy(predictions, Y))\n",
    "    return W1, b1, W2, b2 "
   ]
  },
  {
   "cell_type": "code",
   "execution_count": 7,
   "id": "68a38812",
   "metadata": {},
   "outputs": [
    {
     "name": "stdout",
     "output_type": "stream",
     "text": [
      "Iteration:  0\n",
      "[8 0 7 ... 8 8 0] [0 1 3 ... 9 3 7]\n",
      "Accuracy:  0.13631707317073172\n",
      "Iteration:  10\n",
      "[7 7 6 ... 8 8 0] [0 1 3 ... 9 3 7]\n",
      "Accuracy:  0.24690243902439024\n",
      "Iteration:  20\n",
      "[7 7 6 ... 9 8 0] [0 1 3 ... 9 3 7]\n",
      "Accuracy:  0.3241707317073171\n",
      "Iteration:  30\n",
      "[7 7 6 ... 9 8 3] [0 1 3 ... 9 3 7]\n",
      "Accuracy:  0.38221951219512196\n",
      "Iteration:  40\n",
      "[7 1 6 ... 9 8 3] [0 1 3 ... 9 3 7]\n",
      "Accuracy:  0.4292682926829268\n",
      "Iteration:  50\n",
      "[0 1 6 ... 9 8 4] [0 1 3 ... 9 3 7]\n",
      "Accuracy:  0.47197560975609754\n",
      "Iteration:  60\n",
      "[0 1 6 ... 9 8 4] [0 1 3 ... 9 3 7]\n",
      "Accuracy:  0.5120487804878049\n",
      "Iteration:  70\n",
      "[0 3 6 ... 9 3 4] [0 1 3 ... 9 3 7]\n",
      "Accuracy:  0.5507317073170732\n",
      "Iteration:  80\n",
      "[0 3 6 ... 7 3 4] [0 1 3 ... 9 3 7]\n",
      "Accuracy:  0.5828536585365853\n",
      "Iteration:  90\n",
      "[0 3 6 ... 7 3 4] [0 1 3 ... 9 3 7]\n",
      "Accuracy:  0.6103414634146341\n",
      "Iteration:  100\n",
      "[0 3 6 ... 7 3 4] [0 1 3 ... 9 3 7]\n",
      "Accuracy:  0.6350487804878049\n",
      "Iteration:  110\n",
      "[0 3 6 ... 7 3 4] [0 1 3 ... 9 3 7]\n",
      "Accuracy:  0.6568780487804878\n",
      "Iteration:  120\n",
      "[0 3 2 ... 9 3 4] [0 1 3 ... 9 3 7]\n",
      "Accuracy:  0.6750243902439025\n",
      "Iteration:  130\n",
      "[0 3 2 ... 9 3 7] [0 1 3 ... 9 3 7]\n",
      "Accuracy:  0.6904878048780487\n",
      "Iteration:  140\n",
      "[0 3 2 ... 9 3 7] [0 1 3 ... 9 3 7]\n",
      "Accuracy:  0.7046829268292683\n",
      "Iteration:  150\n",
      "[0 3 2 ... 9 3 7] [0 1 3 ... 9 3 7]\n",
      "Accuracy:  0.7182682926829268\n",
      "Iteration:  160\n",
      "[0 3 2 ... 9 3 7] [0 1 3 ... 9 3 7]\n",
      "Accuracy:  0.7292195121951219\n",
      "Iteration:  170\n",
      "[0 3 2 ... 9 3 7] [0 1 3 ... 9 3 7]\n",
      "Accuracy:  0.7386585365853658\n",
      "Iteration:  180\n",
      "[0 3 2 ... 9 3 7] [0 1 3 ... 9 3 7]\n",
      "Accuracy:  0.7485121951219512\n",
      "Iteration:  190\n",
      "[0 3 2 ... 9 3 7] [0 1 3 ... 9 3 7]\n",
      "Accuracy:  0.7570243902439024\n",
      "Iteration:  200\n",
      "[0 3 2 ... 9 3 7] [0 1 3 ... 9 3 7]\n",
      "Accuracy:  0.7646341463414634\n",
      "Iteration:  210\n",
      "[0 3 2 ... 9 3 7] [0 1 3 ... 9 3 7]\n",
      "Accuracy:  0.7714146341463415\n",
      "Iteration:  220\n",
      "[0 5 2 ... 9 3 7] [0 1 3 ... 9 3 7]\n",
      "Accuracy:  0.7775609756097561\n",
      "Iteration:  230\n",
      "[0 5 2 ... 9 3 7] [0 1 3 ... 9 3 7]\n",
      "Accuracy:  0.7837804878048781\n",
      "Iteration:  240\n",
      "[0 5 2 ... 9 3 7] [0 1 3 ... 9 3 7]\n",
      "Accuracy:  0.7895853658536586\n",
      "Iteration:  250\n",
      "[0 5 2 ... 9 3 7] [0 1 3 ... 9 3 7]\n",
      "Accuracy:  0.7939512195121952\n",
      "Iteration:  260\n",
      "[0 5 2 ... 9 3 7] [0 1 3 ... 9 3 7]\n",
      "Accuracy:  0.7984634146341464\n",
      "Iteration:  270\n",
      "[0 5 2 ... 9 3 7] [0 1 3 ... 9 3 7]\n",
      "Accuracy:  0.8029268292682927\n",
      "Iteration:  280\n",
      "[0 5 2 ... 9 3 7] [0 1 3 ... 9 3 7]\n",
      "Accuracy:  0.8065609756097561\n",
      "Iteration:  290\n",
      "[0 5 2 ... 9 3 7] [0 1 3 ... 9 3 7]\n",
      "Accuracy:  0.8101951219512196\n",
      "Iteration:  300\n",
      "[0 5 2 ... 9 3 7] [0 1 3 ... 9 3 7]\n",
      "Accuracy:  0.8134878048780487\n",
      "Iteration:  310\n",
      "[0 5 2 ... 9 3 7] [0 1 3 ... 9 3 7]\n",
      "Accuracy:  0.8166341463414634\n",
      "Iteration:  320\n",
      "[0 5 2 ... 9 3 7] [0 1 3 ... 9 3 7]\n",
      "Accuracy:  0.8193170731707317\n",
      "Iteration:  330\n",
      "[0 5 2 ... 9 3 7] [0 1 3 ... 9 3 7]\n",
      "Accuracy:  0.8220731707317073\n",
      "Iteration:  340\n",
      "[0 5 2 ... 9 3 7] [0 1 3 ... 9 3 7]\n",
      "Accuracy:  0.8241463414634146\n",
      "Iteration:  350\n",
      "[0 5 2 ... 9 3 7] [0 1 3 ... 9 3 7]\n",
      "Accuracy:  0.827\n",
      "Iteration:  360\n",
      "[0 5 2 ... 9 3 7] [0 1 3 ... 9 3 7]\n",
      "Accuracy:  0.8295121951219512\n",
      "Iteration:  370\n",
      "[0 5 2 ... 9 3 7] [0 1 3 ... 9 3 7]\n",
      "Accuracy:  0.8315121951219512\n",
      "Iteration:  380\n",
      "[0 5 2 ... 9 3 7] [0 1 3 ... 9 3 7]\n",
      "Accuracy:  0.8337073170731707\n",
      "Iteration:  390\n",
      "[0 5 2 ... 9 3 7] [0 1 3 ... 9 3 7]\n",
      "Accuracy:  0.835780487804878\n",
      "Iteration:  400\n",
      "[0 5 2 ... 9 3 7] [0 1 3 ... 9 3 7]\n",
      "Accuracy:  0.8371951219512195\n",
      "Iteration:  410\n",
      "[0 5 2 ... 9 3 7] [0 1 3 ... 9 3 7]\n",
      "Accuracy:  0.8392439024390244\n",
      "Iteration:  420\n",
      "[0 5 2 ... 9 3 7] [0 1 3 ... 9 3 7]\n",
      "Accuracy:  0.8409268292682927\n",
      "Iteration:  430\n",
      "[0 5 2 ... 9 3 7] [0 1 3 ... 9 3 7]\n",
      "Accuracy:  0.8424146341463414\n",
      "Iteration:  440\n",
      "[0 5 2 ... 9 3 7] [0 1 3 ... 9 3 7]\n",
      "Accuracy:  0.8439512195121951\n",
      "Iteration:  450\n",
      "[0 5 2 ... 9 3 7] [0 1 3 ... 9 3 7]\n",
      "Accuracy:  0.8453414634146341\n",
      "Iteration:  460\n",
      "[0 5 2 ... 9 3 7] [0 1 3 ... 9 3 7]\n",
      "Accuracy:  0.8466585365853658\n",
      "Iteration:  470\n",
      "[0 5 2 ... 9 3 7] [0 1 3 ... 9 3 7]\n",
      "Accuracy:  0.8478536585365853\n",
      "Iteration:  480\n",
      "[0 5 2 ... 9 3 7] [0 1 3 ... 9 3 7]\n",
      "Accuracy:  0.8488536585365853\n",
      "Iteration:  490\n",
      "[0 5 2 ... 9 3 7] [0 1 3 ... 9 3 7]\n",
      "Accuracy:  0.8499024390243902\n"
     ]
    }
   ],
   "source": [
    "W1,b1,W2,b2 = gradient_descent(X_train,Y_train,0.1,500)"
   ]
  },
  {
   "cell_type": "code",
   "execution_count": 8,
   "id": "ca876bf0",
   "metadata": {},
   "outputs": [],
   "source": [
    "def make_predictions(X, W1, b1, W2, b2):\n",
    "    Z1,A1,Z2, A2 = forward_prop(W1, b1, W2, b2, X)\n",
    "    predictions = get_predictions(A2)\n",
    "    return predictions\n",
    "\n",
    "def test_prediction(index, W1, b1, W2, b2):\n",
    "    current_image = X_train[:, index, None]\n",
    "    prediction = make_predictions(X_train[:, index, None], W1, b1, W2, b2)\n",
    "    label = Y_train[index]\n",
    "    print(\"Prediction: \", prediction)\n",
    "    print(\"Label: \", label)\n",
    "    \n",
    "    current_image = current_image.reshape((28, 28)) * 255\n",
    "    plt.gray()\n",
    "    plt.imshow(current_image, interpolation='nearest')\n",
    "    plt.show()"
   ]
  },
  {
   "cell_type": "code",
   "execution_count": 9,
   "id": "1acbb6b9",
   "metadata": {},
   "outputs": [
    {
     "name": "stdout",
     "output_type": "stream",
     "text": [
      "Prediction:  [0]\n",
      "Label:  0\n"
     ]
    },
    {
     "data": {
      "image/png": "[encoded data removed]",
      "text/plain": [
       "<Figure size 640x480 with 1 Axes>"
      ]
     },
     "metadata": {},
     "output_type": "display_data"
    },
    {
     "name": "stdout",
     "output_type": "stream",
     "text": [
      "Prediction:  [5]\n",
      "Label:  1\n"
     ]
    },
    {
     "data": {
      "image/png": "[encoded data removed]",
      "text/plain": [
       "<Figure size 640x480 with 1 Axes>"
      ]
     },
     "metadata": {},
     "output_type": "display_data"
    },
    {
     "name": "stdout",
     "output_type": "stream",
     "text": [
      "Prediction:  [2]\n",
      "Label:  3\n"
     ]
    },
    {
     "data": {
      "image/png": "[encoded data removed]",
      "text/plain": [
       "<Figure size 640x480 with 1 Axes>"
      ]
     },
     "metadata": {},
     "output_type": "display_data"
    },
    {
     "name": "stdout",
     "output_type": "stream",
     "text": [
      "Prediction:  [6]\n",
      "Label:  2\n"
     ]
    },
    {
     "data": {
      "image/png": "[encoded data removed]",
      "text/plain": [
       "<Figure size 640x480 with 1 Axes>"
      ]
     },
     "metadata": {},
     "output_type": "display_data"
    }
   ],
   "source": [
    "test_prediction(0, W1, b1, W2, b2)\n",
    "test_prediction(1, W1, b1, W2, b2)\n",
    "test_prediction(2, W1, b1, W2, b2)\n",
    "test_prediction(3, W1, b1, W2, b2)"
   ]
  },
  {
   "cell_type": "code",
   "execution_count": 10,
   "id": "2a93980c",
   "metadata": {},
   "outputs": [
    {
     "ename": "ValueError",
     "evalue": "shapes (10,784) and (785,1000) not aligned: 784 (dim 1) != 785 (dim 0)",
     "output_type": "error",
     "traceback": [
      "\u001b[1;31m---------------------------------------------------------------------------\u001b[0m",
      "\u001b[1;31mValueError\u001b[0m                                Traceback (most recent call last)",
      "Cell \u001b[1;32mIn[10], line 1\u001b[0m\n\u001b[1;32m----> 1\u001b[0m dev_predictions \u001b[38;5;241m=\u001b[39m \u001b[43mmake_predictions\u001b[49m\u001b[43m(\u001b[49m\u001b[43mX_dev\u001b[49m\u001b[43m,\u001b[49m\u001b[43m \u001b[49m\u001b[43mW1\u001b[49m\u001b[43m,\u001b[49m\u001b[43m \u001b[49m\u001b[43mb1\u001b[49m\u001b[43m,\u001b[49m\u001b[43m \u001b[49m\u001b[43mW2\u001b[49m\u001b[43m,\u001b[49m\u001b[43m \u001b[49m\u001b[43mb2\u001b[49m\u001b[43m)\u001b[49m\n\u001b[0;32m      2\u001b[0m get_accuracy(dev_predictions, Y_dev)\n",
      "Cell \u001b[1;32mIn[8], line 2\u001b[0m, in \u001b[0;36mmake_predictions\u001b[1;34m(X, W1, b1, W2, b2)\u001b[0m\n\u001b[0;32m      1\u001b[0m \u001b[38;5;28;01mdef\u001b[39;00m \u001b[38;5;21mmake_predictions\u001b[39m(X, W1, b1, W2, b2):\n\u001b[1;32m----> 2\u001b[0m     Z1,A1,Z2, A2 \u001b[38;5;241m=\u001b[39m \u001b[43mforward_prop\u001b[49m\u001b[43m(\u001b[49m\u001b[43mW1\u001b[49m\u001b[43m,\u001b[49m\u001b[43m \u001b[49m\u001b[43mb1\u001b[49m\u001b[43m,\u001b[49m\u001b[43m \u001b[49m\u001b[43mW2\u001b[49m\u001b[43m,\u001b[49m\u001b[43m \u001b[49m\u001b[43mb2\u001b[49m\u001b[43m,\u001b[49m\u001b[43m \u001b[49m\u001b[43mX\u001b[49m\u001b[43m)\u001b[49m\n\u001b[0;32m      3\u001b[0m     predictions \u001b[38;5;241m=\u001b[39m get_predictions(A2)\n\u001b[0;32m      4\u001b[0m     \u001b[38;5;28;01mreturn\u001b[39;00m predictions\n",
      "Cell \u001b[1;32mIn[5], line 16\u001b[0m, in \u001b[0;36mforward_prop\u001b[1;34m(W1, b1, W2, b2, X)\u001b[0m\n\u001b[0;32m     15\u001b[0m \u001b[38;5;28;01mdef\u001b[39;00m \u001b[38;5;21mforward_prop\u001b[39m(W1,b1,W2,b2,X):\n\u001b[1;32m---> 16\u001b[0m     Z1 \u001b[38;5;241m=\u001b[39m \u001b[43mW1\u001b[49m\u001b[38;5;241;43m.\u001b[39;49m\u001b[43mdot\u001b[49m\u001b[43m(\u001b[49m\u001b[43mX\u001b[49m\u001b[43m)\u001b[49m \u001b[38;5;241m+\u001b[39m b1\n\u001b[0;32m     17\u001b[0m     A1 \u001b[38;5;241m=\u001b[39m relu(Z1)\n\u001b[0;32m     18\u001b[0m     Z2 \u001b[38;5;241m=\u001b[39m W2\u001b[38;5;241m.\u001b[39mdot(A1) \u001b[38;5;241m+\u001b[39m b2\n",
      "\u001b[1;31mValueError\u001b[0m: shapes (10,784) and (785,1000) not aligned: 784 (dim 1) != 785 (dim 0)"
     ]
    }
   ],
   "source": [
    "dev_predictions = make_predictions(X_dev, W1, b1, W2, b2)\n",
    "get_accuracy(dev_predictions, Y_dev)"
   ]
  },
  {
   "cell_type": "code",
   "execution_count": null,
   "id": "06a1ff1f",
   "metadata": {},
   "outputs": [],
   "source": []
  }
 ],
 "metadata": {
  "kernelspec": {
   "display_name": "base",
   "language": "python",
   "name": "python3"
  },
  "language_info": {
   "codemirror_mode": {
    "name": "ipython",
    "version": 3
   },
   "file_extension": ".py",
   "mimetype": "text/x-python",
   "name": "python",
   "nbconvert_exporter": "python",
   "pygments_lexer": "ipython3",
   "version": "3.12.7"
  }
 },
 "nbformat": 4,
 "nbformat_minor": 5
}
